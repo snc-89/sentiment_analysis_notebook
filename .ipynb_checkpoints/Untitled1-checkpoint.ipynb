{
 "cells": [
  {
   "cell_type": "code",
   "execution_count": 57,
   "metadata": {},
   "outputs": [],
   "source": [
    "import json\n",
    "import pandas as pd\n",
    "from matplotlib import pyplot as plt\n",
    "import datetime\n",
    "import seaborn as sns\n",
    "import numpy as np\n",
    "plt.style.use('seaborn')\n",
    "%matplotlib inline\n",
    "import csv\n",
    "import codecs"
   ]
  },
  {
   "cell_type": "code",
   "execution_count": 58,
   "metadata": {},
   "outputs": [],
   "source": [
    "with open('cleanDictArray2.json') as f:\n",
    "    vidsArr = json.load(f)\n",
    "f.close\n",
    "with open('cleanedComments.csv',encoding='utf-8') as f:\n",
    "    reader = csv.reader(x.replace('\\0', '') for x in f)\n",
    "    cleanedComments = list(reader)\n",
    "f.close()"
   ]
  },
  {
   "cell_type": "code",
   "execution_count": 59,
   "metadata": {},
   "outputs": [
    {
     "data": {
      "text/html": [
       "<div>\n",
       "<style scoped>\n",
       "    .dataframe tbody tr th:only-of-type {\n",
       "        vertical-align: middle;\n",
       "    }\n",
       "\n",
       "    .dataframe tbody tr th {\n",
       "        vertical-align: top;\n",
       "    }\n",
       "\n",
       "    .dataframe thead th {\n",
       "        text-align: right;\n",
       "    }\n",
       "</style>\n",
       "<table border=\"1\" class=\"dataframe\">\n",
       "  <thead>\n",
       "    <tr style=\"text-align: right;\">\n",
       "      <th></th>\n",
       "      <th>commentCount</th>\n",
       "      <th>date</th>\n",
       "      <th>dislikeCount</th>\n",
       "      <th>likeCount</th>\n",
       "      <th>title</th>\n",
       "      <th>viewCount</th>\n",
       "    </tr>\n",
       "  </thead>\n",
       "  <tbody>\n",
       "    <tr>\n",
       "      <th>0</th>\n",
       "      <td>2091</td>\n",
       "      <td>2013-01-17T22:40:29.000Z</td>\n",
       "      <td>175</td>\n",
       "      <td>6485</td>\n",
       "      <td>Joe Rogan Experience #1 - Brian Redban</td>\n",
       "      <td>673255</td>\n",
       "    </tr>\n",
       "    <tr>\n",
       "      <th>1</th>\n",
       "      <td>359</td>\n",
       "      <td>2013-01-17T22:47:58.000Z</td>\n",
       "      <td>68</td>\n",
       "      <td>1004</td>\n",
       "      <td>Joe Rogan Experience #2 - Brian Redban</td>\n",
       "      <td>134693</td>\n",
       "    </tr>\n",
       "    <tr>\n",
       "      <th>2</th>\n",
       "      <td>320</td>\n",
       "      <td>2013-01-17T23:22:28.000Z</td>\n",
       "      <td>66</td>\n",
       "      <td>1016</td>\n",
       "      <td>Joe Rogan Experience #3 - Ari Shaffir</td>\n",
       "      <td>133176</td>\n",
       "    </tr>\n",
       "    <tr>\n",
       "      <th>3</th>\n",
       "      <td>59</td>\n",
       "      <td>2013-01-17T23:49:17.000Z</td>\n",
       "      <td>19</td>\n",
       "      <td>343</td>\n",
       "      <td>Joe Rogan Experience #5 - Ari Shaffir &amp; John H...</td>\n",
       "      <td>49565</td>\n",
       "    </tr>\n",
       "    <tr>\n",
       "      <th>4</th>\n",
       "      <td>48</td>\n",
       "      <td>2013-01-18T00:04:38.000Z</td>\n",
       "      <td>11</td>\n",
       "      <td>278</td>\n",
       "      <td>Joe Rogan Experience #5 - Ari Shaffir &amp; John H...</td>\n",
       "      <td>33535</td>\n",
       "    </tr>\n",
       "  </tbody>\n",
       "</table>\n",
       "</div>"
      ],
      "text/plain": [
       "  commentCount                      date dislikeCount likeCount  \\\n",
       "0         2091  2013-01-17T22:40:29.000Z          175      6485   \n",
       "1          359  2013-01-17T22:47:58.000Z           68      1004   \n",
       "2          320  2013-01-17T23:22:28.000Z           66      1016   \n",
       "3           59  2013-01-17T23:49:17.000Z           19       343   \n",
       "4           48  2013-01-18T00:04:38.000Z           11       278   \n",
       "\n",
       "                                               title viewCount  \n",
       "0             Joe Rogan Experience #1 - Brian Redban    673255  \n",
       "1             Joe Rogan Experience #2 - Brian Redban    134693  \n",
       "2              Joe Rogan Experience #3 - Ari Shaffir    133176  \n",
       "3  Joe Rogan Experience #5 - Ari Shaffir & John H...     49565  \n",
       "4  Joe Rogan Experience #5 - Ari Shaffir & John H...     33535  "
      ]
     },
     "execution_count": 59,
     "metadata": {},
     "output_type": "execute_result"
    }
   ],
   "source": [
    "data = pd.DataFrame(vidsArr)\n",
    "data.head()"
   ]
  },
  {
   "cell_type": "code",
   "execution_count": 67,
   "metadata": {},
   "outputs": [
    {
     "data": {
      "text/plain": [
       "'Creatures that work in the dark hate the light'"
      ]
     },
     "execution_count": 67,
     "metadata": {},
     "output_type": "execute_result"
    }
   ],
   "source": [
    "cleanedComments[1300][50]"
   ]
  },
  {
   "cell_type": "code",
   "execution_count": 60,
   "metadata": {},
   "outputs": [],
   "source": [
    "data['comments'] = cleanedComments"
   ]
  },
  {
   "cell_type": "code",
   "execution_count": 61,
   "metadata": {},
   "outputs": [
    {
     "data": {
      "text/html": [
       "<div>\n",
       "<style scoped>\n",
       "    .dataframe tbody tr th:only-of-type {\n",
       "        vertical-align: middle;\n",
       "    }\n",
       "\n",
       "    .dataframe tbody tr th {\n",
       "        vertical-align: top;\n",
       "    }\n",
       "\n",
       "    .dataframe thead th {\n",
       "        text-align: right;\n",
       "    }\n",
       "</style>\n",
       "<table border=\"1\" class=\"dataframe\">\n",
       "  <thead>\n",
       "    <tr style=\"text-align: right;\">\n",
       "      <th></th>\n",
       "      <th>commentCount</th>\n",
       "      <th>date</th>\n",
       "      <th>dislikeCount</th>\n",
       "      <th>likeCount</th>\n",
       "      <th>title</th>\n",
       "      <th>viewCount</th>\n",
       "      <th>comments</th>\n",
       "    </tr>\n",
       "  </thead>\n",
       "  <tbody>\n",
       "    <tr>\n",
       "      <th>0</th>\n",
       "      <td>2091</td>\n",
       "      <td>2013-01-17T22:40:29.000Z</td>\n",
       "      <td>175</td>\n",
       "      <td>6485</td>\n",
       "      <td>Joe Rogan Experience #1 - Brian Redban</td>\n",
       "      <td>673255</td>\n",
       "      <td>[Less than 10 years later this man would build...</td>\n",
       "    </tr>\n",
       "    <tr>\n",
       "      <th>1</th>\n",
       "      <td>359</td>\n",
       "      <td>2013-01-17T22:47:58.000Z</td>\n",
       "      <td>68</td>\n",
       "      <td>1004</td>\n",
       "      <td>Joe Rogan Experience #2 - Brian Redban</td>\n",
       "      <td>134693</td>\n",
       "      <td>[Snakes can see farts, Ethiopia, Joe did a num...</td>\n",
       "    </tr>\n",
       "    <tr>\n",
       "      <th>2</th>\n",
       "      <td>320</td>\n",
       "      <td>2013-01-17T23:22:28.000Z</td>\n",
       "      <td>66</td>\n",
       "      <td>1016</td>\n",
       "      <td>Joe Rogan Experience #3 - Ari Shaffir</td>\n",
       "      <td>133176</td>\n",
       "      <td>[This seems like 2008 not 2013, 3 down 1368 mo...</td>\n",
       "    </tr>\n",
       "    <tr>\n",
       "      <th>3</th>\n",
       "      <td>59</td>\n",
       "      <td>2013-01-17T23:49:17.000Z</td>\n",
       "      <td>19</td>\n",
       "      <td>343</td>\n",
       "      <td>Joe Rogan Experience #5 - Ari Shaffir &amp; John H...</td>\n",
       "      <td>49565</td>\n",
       "      <td>[I watched this on August 29, 2019!, Joe, rock...</td>\n",
       "    </tr>\n",
       "    <tr>\n",
       "      <th>4</th>\n",
       "      <td>48</td>\n",
       "      <td>2013-01-18T00:04:38.000Z</td>\n",
       "      <td>11</td>\n",
       "      <td>278</td>\n",
       "      <td>Joe Rogan Experience #5 - Ari Shaffir &amp; John H...</td>\n",
       "      <td>33535</td>\n",
       "      <td>[I watched this on August 29, 2019!, The and b...</td>\n",
       "    </tr>\n",
       "  </tbody>\n",
       "</table>\n",
       "</div>"
      ],
      "text/plain": [
       "  commentCount                      date dislikeCount likeCount  \\\n",
       "0         2091  2013-01-17T22:40:29.000Z          175      6485   \n",
       "1          359  2013-01-17T22:47:58.000Z           68      1004   \n",
       "2          320  2013-01-17T23:22:28.000Z           66      1016   \n",
       "3           59  2013-01-17T23:49:17.000Z           19       343   \n",
       "4           48  2013-01-18T00:04:38.000Z           11       278   \n",
       "\n",
       "                                               title viewCount  \\\n",
       "0             Joe Rogan Experience #1 - Brian Redban    673255   \n",
       "1             Joe Rogan Experience #2 - Brian Redban    134693   \n",
       "2              Joe Rogan Experience #3 - Ari Shaffir    133176   \n",
       "3  Joe Rogan Experience #5 - Ari Shaffir & John H...     49565   \n",
       "4  Joe Rogan Experience #5 - Ari Shaffir & John H...     33535   \n",
       "\n",
       "                                            comments  \n",
       "0  [Less than 10 years later this man would build...  \n",
       "1  [Snakes can see farts, Ethiopia, Joe did a num...  \n",
       "2  [This seems like 2008 not 2013, 3 down 1368 mo...  \n",
       "3  [I watched this on August 29, 2019!, Joe, rock...  \n",
       "4  [I watched this on August 29, 2019!, The and b...  "
      ]
     },
     "execution_count": 61,
     "metadata": {},
     "output_type": "execute_result"
    }
   ],
   "source": [
    "data.head()"
   ]
  },
  {
   "cell_type": "code",
   "execution_count": 63,
   "metadata": {},
   "outputs": [
    {
     "ename": "KeyError",
     "evalue": "0",
     "output_type": "error",
     "traceback": [
      "\u001b[1;31m---------------------------------------------------------------------------\u001b[0m",
      "\u001b[1;31mKeyError\u001b[0m                                  Traceback (most recent call last)",
      "\u001b[1;32m<ipython-input-63-72d965bea716>\u001b[0m in \u001b[0;36m<module>\u001b[1;34m\u001b[0m\n\u001b[1;32m----> 1\u001b[1;33m \u001b[0mdata\u001b[0m\u001b[1;33m[\u001b[0m\u001b[0mdata\u001b[0m\u001b[1;33m.\u001b[0m\u001b[0mtitle\u001b[0m\u001b[1;33m==\u001b[0m\u001b[1;34m'Joe Rogan Experience #1255 - Alex Jones Returns!'\u001b[0m\u001b[1;33m]\u001b[0m\u001b[1;33m.\u001b[0m\u001b[0mcomments\u001b[0m\u001b[1;33m[\u001b[0m\u001b[1;36m0\u001b[0m\u001b[1;33m]\u001b[0m\u001b[1;33m\u001b[0m\u001b[1;33m\u001b[0m\u001b[0m\n\u001b[0m",
      "\u001b[1;32m~\\Anaconda3\\lib\\site-packages\\pandas\\core\\series.py\u001b[0m in \u001b[0;36m__getitem__\u001b[1;34m(self, key)\u001b[0m\n\u001b[0;32m    866\u001b[0m         \u001b[0mkey\u001b[0m \u001b[1;33m=\u001b[0m \u001b[0mcom\u001b[0m\u001b[1;33m.\u001b[0m\u001b[0mapply_if_callable\u001b[0m\u001b[1;33m(\u001b[0m\u001b[0mkey\u001b[0m\u001b[1;33m,\u001b[0m \u001b[0mself\u001b[0m\u001b[1;33m)\u001b[0m\u001b[1;33m\u001b[0m\u001b[1;33m\u001b[0m\u001b[0m\n\u001b[0;32m    867\u001b[0m         \u001b[1;32mtry\u001b[0m\u001b[1;33m:\u001b[0m\u001b[1;33m\u001b[0m\u001b[1;33m\u001b[0m\u001b[0m\n\u001b[1;32m--> 868\u001b[1;33m             \u001b[0mresult\u001b[0m \u001b[1;33m=\u001b[0m \u001b[0mself\u001b[0m\u001b[1;33m.\u001b[0m\u001b[0mindex\u001b[0m\u001b[1;33m.\u001b[0m\u001b[0mget_value\u001b[0m\u001b[1;33m(\u001b[0m\u001b[0mself\u001b[0m\u001b[1;33m,\u001b[0m \u001b[0mkey\u001b[0m\u001b[1;33m)\u001b[0m\u001b[1;33m\u001b[0m\u001b[1;33m\u001b[0m\u001b[0m\n\u001b[0m\u001b[0;32m    869\u001b[0m \u001b[1;33m\u001b[0m\u001b[0m\n\u001b[0;32m    870\u001b[0m             \u001b[1;32mif\u001b[0m \u001b[1;32mnot\u001b[0m \u001b[0mis_scalar\u001b[0m\u001b[1;33m(\u001b[0m\u001b[0mresult\u001b[0m\u001b[1;33m)\u001b[0m\u001b[1;33m:\u001b[0m\u001b[1;33m\u001b[0m\u001b[1;33m\u001b[0m\u001b[0m\n",
      "\u001b[1;32m~\\Anaconda3\\lib\\site-packages\\pandas\\core\\indexes\\base.py\u001b[0m in \u001b[0;36mget_value\u001b[1;34m(self, series, key)\u001b[0m\n\u001b[0;32m   4373\u001b[0m         \u001b[1;32mtry\u001b[0m\u001b[1;33m:\u001b[0m\u001b[1;33m\u001b[0m\u001b[1;33m\u001b[0m\u001b[0m\n\u001b[0;32m   4374\u001b[0m             return self._engine.get_value(s, k,\n\u001b[1;32m-> 4375\u001b[1;33m                                           tz=getattr(series.dtype, 'tz', None))\n\u001b[0m\u001b[0;32m   4376\u001b[0m         \u001b[1;32mexcept\u001b[0m \u001b[0mKeyError\u001b[0m \u001b[1;32mas\u001b[0m \u001b[0me1\u001b[0m\u001b[1;33m:\u001b[0m\u001b[1;33m\u001b[0m\u001b[1;33m\u001b[0m\u001b[0m\n\u001b[0;32m   4377\u001b[0m             \u001b[1;32mif\u001b[0m \u001b[0mlen\u001b[0m\u001b[1;33m(\u001b[0m\u001b[0mself\u001b[0m\u001b[1;33m)\u001b[0m \u001b[1;33m>\u001b[0m \u001b[1;36m0\u001b[0m \u001b[1;32mand\u001b[0m \u001b[1;33m(\u001b[0m\u001b[0mself\u001b[0m\u001b[1;33m.\u001b[0m\u001b[0mholds_integer\u001b[0m\u001b[1;33m(\u001b[0m\u001b[1;33m)\u001b[0m \u001b[1;32mor\u001b[0m \u001b[0mself\u001b[0m\u001b[1;33m.\u001b[0m\u001b[0mis_boolean\u001b[0m\u001b[1;33m(\u001b[0m\u001b[1;33m)\u001b[0m\u001b[1;33m)\u001b[0m\u001b[1;33m:\u001b[0m\u001b[1;33m\u001b[0m\u001b[1;33m\u001b[0m\u001b[0m\n",
      "\u001b[1;32mpandas/_libs/index.pyx\u001b[0m in \u001b[0;36mpandas._libs.index.IndexEngine.get_value\u001b[1;34m()\u001b[0m\n",
      "\u001b[1;32mpandas/_libs/index.pyx\u001b[0m in \u001b[0;36mpandas._libs.index.IndexEngine.get_value\u001b[1;34m()\u001b[0m\n",
      "\u001b[1;32mpandas/_libs/index.pyx\u001b[0m in \u001b[0;36mpandas._libs.index.IndexEngine.get_loc\u001b[1;34m()\u001b[0m\n",
      "\u001b[1;32mpandas/_libs/hashtable_class_helper.pxi\u001b[0m in \u001b[0;36mpandas._libs.hashtable.Int64HashTable.get_item\u001b[1;34m()\u001b[0m\n",
      "\u001b[1;32mpandas/_libs/hashtable_class_helper.pxi\u001b[0m in \u001b[0;36mpandas._libs.hashtable.Int64HashTable.get_item\u001b[1;34m()\u001b[0m\n",
      "\u001b[1;31mKeyError\u001b[0m: 0"
     ]
    }
   ],
   "source": [
    "data[data.title=='Joe Rogan Experience #1255 - Alex Jones Returns!'].comments[0]"
   ]
  },
  {
   "cell_type": "code",
   "execution_count": null,
   "metadata": {},
   "outputs": [],
   "source": []
  }
 ],
 "metadata": {
  "kernelspec": {
   "display_name": "Python 3",
   "language": "python",
   "name": "python3"
  },
  "language_info": {
   "codemirror_mode": {
    "name": "ipython",
    "version": 3
   },
   "file_extension": ".py",
   "mimetype": "text/x-python",
   "name": "python",
   "nbconvert_exporter": "python",
   "pygments_lexer": "ipython3",
   "version": "3.7.3"
  }
 },
 "nbformat": 4,
 "nbformat_minor": 2
}
