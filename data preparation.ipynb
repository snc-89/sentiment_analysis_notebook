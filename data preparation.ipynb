{
 "cells": [
  {
   "cell_type": "code",
   "execution_count": 48,
   "metadata": {},
   "outputs": [],
   "source": [
    "import json\n",
    "import pandas as pd\n",
    "import csv\n",
    "import seaborn as sns\n",
    "import matplotlib.pyplot as plt\n",
    "import wikipedia\n",
    "import numpy as np\n",
    "from scipy import stats\n",
    "from sklearn.model_selection import train_test_split\n",
    "from sklearn import linear_model\n",
    "from sklearn.metrics import r2_score\n",
    "from sklearn.metrics import confusion_matrix, accuracy_score, f1_score, precision_score, recall_score\n",
    "from sklearn.feature_selection import RFE, RFECV\n",
    "from sklearn.metrics import mean_squared_error, r2_score, mean_absolute_error\n",
    "import re\n",
    "from pandas.plotting import register_matplotlib_converters\n",
    "from sklearn.utils import resample\n",
    "from sklearn.naive_bayes import GaussianNB\n",
    "from sklearn.naive_bayes import MultinomialNB\n",
    "from sklearn.tree import DecisionTreeClassifier\n",
    "from sklearn.neural_network import MLPClassifier\n",
    "from sklearn.svm import SVC\n",
    "from sklearn.neighbors import KNeighborsClassifier\n",
    "from sklearn.cluster import KMeans\n",
    "from sklearn.feature_selection import RFE\n",
    "from sklearn.linear_model import LogisticRegression"
   ]
  },
  {
   "cell_type": "code",
   "execution_count": 49,
   "metadata": {},
   "outputs": [
    {
     "name": "stdout",
     "output_type": "stream",
     "text": [
      "(3525956, 3)\n"
     ]
    },
    {
     "data": {
      "text/html": [
       "<div>\n",
       "<style scoped>\n",
       "    .dataframe tbody tr th:only-of-type {\n",
       "        vertical-align: middle;\n",
       "    }\n",
       "\n",
       "    .dataframe tbody tr th {\n",
       "        vertical-align: top;\n",
       "    }\n",
       "\n",
       "    .dataframe thead th {\n",
       "        text-align: right;\n",
       "    }\n",
       "</style>\n",
       "<table border=\"1\" class=\"dataframe\">\n",
       "  <thead>\n",
       "    <tr style=\"text-align: right;\">\n",
       "      <th></th>\n",
       "      <th>idx</th>\n",
       "      <th>magnitude</th>\n",
       "      <th>sentiment</th>\n",
       "    </tr>\n",
       "  </thead>\n",
       "  <tbody>\n",
       "    <tr>\n",
       "      <th>0</th>\n",
       "      <td>0</td>\n",
       "      <td>18.67</td>\n",
       "      <td>0.06</td>\n",
       "    </tr>\n",
       "    <tr>\n",
       "      <th>1</th>\n",
       "      <td>0</td>\n",
       "      <td>14.38</td>\n",
       "      <td>0.35</td>\n",
       "    </tr>\n",
       "    <tr>\n",
       "      <th>2</th>\n",
       "      <td>0</td>\n",
       "      <td>48.22</td>\n",
       "      <td>0.07</td>\n",
       "    </tr>\n",
       "    <tr>\n",
       "      <th>3</th>\n",
       "      <td>0</td>\n",
       "      <td>32.27</td>\n",
       "      <td>0.25</td>\n",
       "    </tr>\n",
       "    <tr>\n",
       "      <th>4</th>\n",
       "      <td>0</td>\n",
       "      <td>61.94</td>\n",
       "      <td>-0.19</td>\n",
       "    </tr>\n",
       "  </tbody>\n",
       "</table>\n",
       "</div>"
      ],
      "text/plain": [
       "   idx  magnitude  sentiment\n",
       "0    0      18.67       0.06\n",
       "1    0      14.38       0.35\n",
       "2    0      48.22       0.07\n",
       "3    0      32.27       0.25\n",
       "4    0      61.94      -0.19"
      ]
     },
     "execution_count": 49,
     "metadata": {},
     "output_type": "execute_result"
    }
   ],
   "source": [
    "raw_scores = pd.read_csv('data/raw_scores.csv')\n",
    "raw_scores = raw_scores.drop(['Unnamed: 0'],axis=1)\n",
    "print(raw_scores.shape)\n",
    "raw_scores.head()"
   ]
  },
  {
   "cell_type": "markdown",
   "metadata": {},
   "source": [
    "The raw_scores dataframe is a dataframe of all the magnitude and sentiment scores for all of our comments. each comment had an idx column entry to associate it to an index of our videos."
   ]
  },
  {
   "cell_type": "code",
   "execution_count": 50,
   "metadata": {},
   "outputs": [
    {
     "data": {
      "text/plain": [
       "294856"
      ]
     },
     "execution_count": 50,
     "metadata": {},
     "output_type": "execute_result"
    }
   ],
   "source": [
    "len(raw_scores[(raw_scores.magnitude == 0) & (raw_scores.sentiment == 0)])"
   ]
  },
  {
   "cell_type": "markdown",
   "metadata": {},
   "source": [
    "nearly 300,000 comments with 0 sentiment and 0 magnitude. this is due to them being too short usually. sometimes because the characters were non readable (emojis and such), or spelling mistakes. We remove these from our dataframe."
   ]
  },
  {
   "cell_type": "code",
   "execution_count": 51,
   "metadata": {},
   "outputs": [
    {
     "data": {
      "text/plain": [
       "3197519"
      ]
     },
     "execution_count": 51,
     "metadata": {},
     "output_type": "execute_result"
    }
   ],
   "source": [
    "raw_scores = raw_scores[(raw_scores.magnitude != 0) & (raw_scores.sentiment != 0)]\n",
    "len(raw_scores)"
   ]
  },
  {
   "cell_type": "code",
   "execution_count": 52,
   "metadata": {},
   "outputs": [
    {
     "data": {
      "text/html": [
       "<div>\n",
       "<style scoped>\n",
       "    .dataframe tbody tr th:only-of-type {\n",
       "        vertical-align: middle;\n",
       "    }\n",
       "\n",
       "    .dataframe tbody tr th {\n",
       "        vertical-align: top;\n",
       "    }\n",
       "\n",
       "    .dataframe thead tr th {\n",
       "        text-align: left;\n",
       "    }\n",
       "\n",
       "    .dataframe thead tr:last-of-type th {\n",
       "        text-align: right;\n",
       "    }\n",
       "</style>\n",
       "<table border=\"1\" class=\"dataframe\">\n",
       "  <thead>\n",
       "    <tr>\n",
       "      <th></th>\n",
       "      <th colspan=\"8\" halign=\"left\">magnitude</th>\n",
       "      <th colspan=\"8\" halign=\"left\">sentiment</th>\n",
       "    </tr>\n",
       "    <tr>\n",
       "      <th></th>\n",
       "      <th>count</th>\n",
       "      <th>mean</th>\n",
       "      <th>std</th>\n",
       "      <th>min</th>\n",
       "      <th>25%</th>\n",
       "      <th>50%</th>\n",
       "      <th>75%</th>\n",
       "      <th>max</th>\n",
       "      <th>count</th>\n",
       "      <th>mean</th>\n",
       "      <th>std</th>\n",
       "      <th>min</th>\n",
       "      <th>25%</th>\n",
       "      <th>50%</th>\n",
       "      <th>75%</th>\n",
       "      <th>max</th>\n",
       "    </tr>\n",
       "    <tr>\n",
       "      <th>idx</th>\n",
       "      <th></th>\n",
       "      <th></th>\n",
       "      <th></th>\n",
       "      <th></th>\n",
       "      <th></th>\n",
       "      <th></th>\n",
       "      <th></th>\n",
       "      <th></th>\n",
       "      <th></th>\n",
       "      <th></th>\n",
       "      <th></th>\n",
       "      <th></th>\n",
       "      <th></th>\n",
       "      <th></th>\n",
       "      <th></th>\n",
       "      <th></th>\n",
       "    </tr>\n",
       "  </thead>\n",
       "  <tbody>\n",
       "    <tr>\n",
       "      <th>0</th>\n",
       "      <td>1486.0</td>\n",
       "      <td>36.839603</td>\n",
       "      <td>27.999185</td>\n",
       "      <td>0.16</td>\n",
       "      <td>15.4025</td>\n",
       "      <td>30.980</td>\n",
       "      <td>52.1350</td>\n",
       "      <td>173.46</td>\n",
       "      <td>1486.0</td>\n",
       "      <td>0.202423</td>\n",
       "      <td>0.210985</td>\n",
       "      <td>-0.80</td>\n",
       "      <td>0.100</td>\n",
       "      <td>0.220</td>\n",
       "      <td>0.3300</td>\n",
       "      <td>0.75</td>\n",
       "    </tr>\n",
       "    <tr>\n",
       "      <th>1</th>\n",
       "      <td>286.0</td>\n",
       "      <td>40.991923</td>\n",
       "      <td>32.780557</td>\n",
       "      <td>1.23</td>\n",
       "      <td>15.4375</td>\n",
       "      <td>33.695</td>\n",
       "      <td>56.9025</td>\n",
       "      <td>187.24</td>\n",
       "      <td>286.0</td>\n",
       "      <td>0.156189</td>\n",
       "      <td>0.228803</td>\n",
       "      <td>-0.64</td>\n",
       "      <td>0.070</td>\n",
       "      <td>0.175</td>\n",
       "      <td>0.3075</td>\n",
       "      <td>0.72</td>\n",
       "    </tr>\n",
       "    <tr>\n",
       "      <th>2</th>\n",
       "      <td>250.0</td>\n",
       "      <td>37.661920</td>\n",
       "      <td>27.948382</td>\n",
       "      <td>0.28</td>\n",
       "      <td>16.5125</td>\n",
       "      <td>30.940</td>\n",
       "      <td>55.6500</td>\n",
       "      <td>123.39</td>\n",
       "      <td>250.0</td>\n",
       "      <td>0.174560</td>\n",
       "      <td>0.229152</td>\n",
       "      <td>-0.67</td>\n",
       "      <td>0.060</td>\n",
       "      <td>0.180</td>\n",
       "      <td>0.3000</td>\n",
       "      <td>0.75</td>\n",
       "    </tr>\n",
       "    <tr>\n",
       "      <th>3</th>\n",
       "      <td>51.0</td>\n",
       "      <td>54.128431</td>\n",
       "      <td>46.778562</td>\n",
       "      <td>1.88</td>\n",
       "      <td>20.7650</td>\n",
       "      <td>45.490</td>\n",
       "      <td>68.0450</td>\n",
       "      <td>234.21</td>\n",
       "      <td>51.0</td>\n",
       "      <td>0.119020</td>\n",
       "      <td>0.262741</td>\n",
       "      <td>-0.75</td>\n",
       "      <td>0.015</td>\n",
       "      <td>0.160</td>\n",
       "      <td>0.2500</td>\n",
       "      <td>0.72</td>\n",
       "    </tr>\n",
       "    <tr>\n",
       "      <th>4</th>\n",
       "      <td>45.0</td>\n",
       "      <td>37.703111</td>\n",
       "      <td>29.193180</td>\n",
       "      <td>1.88</td>\n",
       "      <td>16.1500</td>\n",
       "      <td>28.630</td>\n",
       "      <td>57.5700</td>\n",
       "      <td>132.69</td>\n",
       "      <td>45.0</td>\n",
       "      <td>0.186889</td>\n",
       "      <td>0.230630</td>\n",
       "      <td>-0.34</td>\n",
       "      <td>0.070</td>\n",
       "      <td>0.160</td>\n",
       "      <td>0.3200</td>\n",
       "      <td>0.68</td>\n",
       "    </tr>\n",
       "  </tbody>\n",
       "</table>\n",
       "</div>"
      ],
      "text/plain": [
       "    magnitude                                                                \\\n",
       "        count       mean        std   min      25%     50%      75%     max   \n",
       "idx                                                                           \n",
       "0      1486.0  36.839603  27.999185  0.16  15.4025  30.980  52.1350  173.46   \n",
       "1       286.0  40.991923  32.780557  1.23  15.4375  33.695  56.9025  187.24   \n",
       "2       250.0  37.661920  27.948382  0.28  16.5125  30.940  55.6500  123.39   \n",
       "3        51.0  54.128431  46.778562  1.88  20.7650  45.490  68.0450  234.21   \n",
       "4        45.0  37.703111  29.193180  1.88  16.1500  28.630  57.5700  132.69   \n",
       "\n",
       "    sentiment                                                        \n",
       "        count      mean       std   min    25%    50%     75%   max  \n",
       "idx                                                                  \n",
       "0      1486.0  0.202423  0.210985 -0.80  0.100  0.220  0.3300  0.75  \n",
       "1       286.0  0.156189  0.228803 -0.64  0.070  0.175  0.3075  0.72  \n",
       "2       250.0  0.174560  0.229152 -0.67  0.060  0.180  0.3000  0.75  \n",
       "3        51.0  0.119020  0.262741 -0.75  0.015  0.160  0.2500  0.72  \n",
       "4        45.0  0.186889  0.230630 -0.34  0.070  0.160  0.3200  0.68  "
      ]
     },
     "execution_count": 52,
     "metadata": {},
     "output_type": "execute_result"
    }
   ],
   "source": [
    "groups = raw_scores.groupby(['idx']).describe()\n",
    "groups.head()"
   ]
  },
  {
   "cell_type": "markdown",
   "metadata": {},
   "source": [
    "#### We group the sentiments and magnitudes according to the column 'idx'. idx represents the video index in the video dataframe. idx = 0 is the first video in the vids dataframe, so all of those sentiments are for all of the comments of videos 0. We append the descriptive stats of the sentiments and magnitudes to the videos dataframe as features to use in our analysis."
   ]
  },
  {
   "cell_type": "code",
   "execution_count": 53,
   "metadata": {},
   "outputs": [
    {
     "name": "stdout",
     "output_type": "stream",
     "text": [
      "(1394, 8)\n"
     ]
    },
    {
     "data": {
      "text/html": [
       "<div>\n",
       "<style scoped>\n",
       "    .dataframe tbody tr th:only-of-type {\n",
       "        vertical-align: middle;\n",
       "    }\n",
       "\n",
       "    .dataframe tbody tr th {\n",
       "        vertical-align: top;\n",
       "    }\n",
       "\n",
       "    .dataframe thead th {\n",
       "        text-align: right;\n",
       "    }\n",
       "</style>\n",
       "<table border=\"1\" class=\"dataframe\">\n",
       "  <thead>\n",
       "    <tr style=\"text-align: right;\">\n",
       "      <th></th>\n",
       "      <th>date</th>\n",
       "      <th>title</th>\n",
       "      <th>class</th>\n",
       "      <th>viewCount</th>\n",
       "      <th>commentCount</th>\n",
       "      <th>likeCount</th>\n",
       "      <th>dislikeCount</th>\n",
       "      <th>ratio</th>\n",
       "    </tr>\n",
       "  </thead>\n",
       "  <tbody>\n",
       "    <tr>\n",
       "      <th>0</th>\n",
       "      <td>2013-01-17</td>\n",
       "      <td>Joe Rogan Experience #1 - Brian Redban</td>\n",
       "      <td>2</td>\n",
       "      <td>673255</td>\n",
       "      <td>2091</td>\n",
       "      <td>6485</td>\n",
       "      <td>175</td>\n",
       "      <td>37.057143</td>\n",
       "    </tr>\n",
       "    <tr>\n",
       "      <th>1</th>\n",
       "      <td>2013-01-17</td>\n",
       "      <td>Joe Rogan Experience #2 - Brian Redban</td>\n",
       "      <td>2</td>\n",
       "      <td>134693</td>\n",
       "      <td>359</td>\n",
       "      <td>1004</td>\n",
       "      <td>68</td>\n",
       "      <td>14.764706</td>\n",
       "    </tr>\n",
       "    <tr>\n",
       "      <th>2</th>\n",
       "      <td>2013-01-17</td>\n",
       "      <td>Joe Rogan Experience #3 - Ari Shaffir</td>\n",
       "      <td>2</td>\n",
       "      <td>133176</td>\n",
       "      <td>320</td>\n",
       "      <td>1016</td>\n",
       "      <td>66</td>\n",
       "      <td>15.393939</td>\n",
       "    </tr>\n",
       "    <tr>\n",
       "      <th>3</th>\n",
       "      <td>2013-01-17</td>\n",
       "      <td>Joe Rogan Experience #5 - Ari Shaffir &amp; John H...</td>\n",
       "      <td>2</td>\n",
       "      <td>49565</td>\n",
       "      <td>59</td>\n",
       "      <td>343</td>\n",
       "      <td>19</td>\n",
       "      <td>18.052632</td>\n",
       "    </tr>\n",
       "    <tr>\n",
       "      <th>4</th>\n",
       "      <td>2013-01-18</td>\n",
       "      <td>Joe Rogan Experience #5 - Ari Shaffir &amp; John H...</td>\n",
       "      <td>2</td>\n",
       "      <td>33535</td>\n",
       "      <td>48</td>\n",
       "      <td>278</td>\n",
       "      <td>11</td>\n",
       "      <td>25.272727</td>\n",
       "    </tr>\n",
       "  </tbody>\n",
       "</table>\n",
       "</div>"
      ],
      "text/plain": [
       "         date                                              title  class  \\\n",
       "0  2013-01-17             Joe Rogan Experience #1 - Brian Redban      2   \n",
       "1  2013-01-17             Joe Rogan Experience #2 - Brian Redban      2   \n",
       "2  2013-01-17              Joe Rogan Experience #3 - Ari Shaffir      2   \n",
       "3  2013-01-17  Joe Rogan Experience #5 - Ari Shaffir & John H...      2   \n",
       "4  2013-01-18  Joe Rogan Experience #5 - Ari Shaffir & John H...      2   \n",
       "\n",
       "   viewCount  commentCount  likeCount  dislikeCount      ratio  \n",
       "0     673255          2091       6485           175  37.057143  \n",
       "1     134693           359       1004            68  14.764706  \n",
       "2     133176           320       1016            66  15.393939  \n",
       "3      49565            59        343            19  18.052632  \n",
       "4      33535            48        278            11  25.272727  "
      ]
     },
     "execution_count": 53,
     "metadata": {},
     "output_type": "execute_result"
    }
   ],
   "source": [
    "vids = pd.read_csv('files/labeled_vids.csv')\n",
    "vids = vids.drop(['Unnamed: 0','Unnamed: 0.1','sentiment','magnitude'],axis=1)\n",
    "print(vids.shape)\n",
    "vids.head()"
   ]
  },
  {
   "cell_type": "code",
   "execution_count": 54,
   "metadata": {},
   "outputs": [],
   "source": [
    "label_list = ['mean','std','min','25%','50%','75%','max']\n",
    "magnitude_label_list = ['magMean','magStd','magMin','magLq','magMedian','magUq','magMax']\n",
    "sentiment_label_list = ['sentMean','sentStd','sentMin','sentLq','sentMedian','sentUq','sentMax']\n",
    "for i,label in enumerate(label_list):\n",
    "    vids[magnitude_label_list[i]] = groups['magnitude'][label]\n",
    "    vids[sentiment_label_list[i]] = groups['sentiment'][label]"
   ]
  },
  {
   "cell_type": "code",
   "execution_count": 55,
   "metadata": {},
   "outputs": [
    {
     "data": {
      "text/html": [
       "<div>\n",
       "<style scoped>\n",
       "    .dataframe tbody tr th:only-of-type {\n",
       "        vertical-align: middle;\n",
       "    }\n",
       "\n",
       "    .dataframe tbody tr th {\n",
       "        vertical-align: top;\n",
       "    }\n",
       "\n",
       "    .dataframe thead th {\n",
       "        text-align: right;\n",
       "    }\n",
       "</style>\n",
       "<table border=\"1\" class=\"dataframe\">\n",
       "  <thead>\n",
       "    <tr style=\"text-align: right;\">\n",
       "      <th></th>\n",
       "      <th>date</th>\n",
       "      <th>title</th>\n",
       "      <th>class</th>\n",
       "      <th>viewCount</th>\n",
       "      <th>commentCount</th>\n",
       "      <th>likeCount</th>\n",
       "      <th>dislikeCount</th>\n",
       "      <th>ratio</th>\n",
       "      <th>magMean</th>\n",
       "      <th>sentMean</th>\n",
       "      <th>...</th>\n",
       "      <th>magMin</th>\n",
       "      <th>sentMin</th>\n",
       "      <th>magLq</th>\n",
       "      <th>sentLq</th>\n",
       "      <th>magMedian</th>\n",
       "      <th>sentMedian</th>\n",
       "      <th>magUq</th>\n",
       "      <th>sentUq</th>\n",
       "      <th>magMax</th>\n",
       "      <th>sentMax</th>\n",
       "    </tr>\n",
       "  </thead>\n",
       "  <tbody>\n",
       "    <tr>\n",
       "      <th>0</th>\n",
       "      <td>2013-01-17</td>\n",
       "      <td>Joe Rogan Experience #1 - Brian Redban</td>\n",
       "      <td>2</td>\n",
       "      <td>673255</td>\n",
       "      <td>2091</td>\n",
       "      <td>6485</td>\n",
       "      <td>175</td>\n",
       "      <td>37.057143</td>\n",
       "      <td>36.839603</td>\n",
       "      <td>0.202423</td>\n",
       "      <td>...</td>\n",
       "      <td>0.16</td>\n",
       "      <td>-0.80</td>\n",
       "      <td>15.4025</td>\n",
       "      <td>0.100</td>\n",
       "      <td>30.980</td>\n",
       "      <td>0.220</td>\n",
       "      <td>52.1350</td>\n",
       "      <td>0.3300</td>\n",
       "      <td>173.46</td>\n",
       "      <td>0.75</td>\n",
       "    </tr>\n",
       "    <tr>\n",
       "      <th>1</th>\n",
       "      <td>2013-01-17</td>\n",
       "      <td>Joe Rogan Experience #2 - Brian Redban</td>\n",
       "      <td>2</td>\n",
       "      <td>134693</td>\n",
       "      <td>359</td>\n",
       "      <td>1004</td>\n",
       "      <td>68</td>\n",
       "      <td>14.764706</td>\n",
       "      <td>40.991923</td>\n",
       "      <td>0.156189</td>\n",
       "      <td>...</td>\n",
       "      <td>1.23</td>\n",
       "      <td>-0.64</td>\n",
       "      <td>15.4375</td>\n",
       "      <td>0.070</td>\n",
       "      <td>33.695</td>\n",
       "      <td>0.175</td>\n",
       "      <td>56.9025</td>\n",
       "      <td>0.3075</td>\n",
       "      <td>187.24</td>\n",
       "      <td>0.72</td>\n",
       "    </tr>\n",
       "    <tr>\n",
       "      <th>2</th>\n",
       "      <td>2013-01-17</td>\n",
       "      <td>Joe Rogan Experience #3 - Ari Shaffir</td>\n",
       "      <td>2</td>\n",
       "      <td>133176</td>\n",
       "      <td>320</td>\n",
       "      <td>1016</td>\n",
       "      <td>66</td>\n",
       "      <td>15.393939</td>\n",
       "      <td>37.661920</td>\n",
       "      <td>0.174560</td>\n",
       "      <td>...</td>\n",
       "      <td>0.28</td>\n",
       "      <td>-0.67</td>\n",
       "      <td>16.5125</td>\n",
       "      <td>0.060</td>\n",
       "      <td>30.940</td>\n",
       "      <td>0.180</td>\n",
       "      <td>55.6500</td>\n",
       "      <td>0.3000</td>\n",
       "      <td>123.39</td>\n",
       "      <td>0.75</td>\n",
       "    </tr>\n",
       "    <tr>\n",
       "      <th>3</th>\n",
       "      <td>2013-01-17</td>\n",
       "      <td>Joe Rogan Experience #5 - Ari Shaffir &amp; John H...</td>\n",
       "      <td>2</td>\n",
       "      <td>49565</td>\n",
       "      <td>59</td>\n",
       "      <td>343</td>\n",
       "      <td>19</td>\n",
       "      <td>18.052632</td>\n",
       "      <td>54.128431</td>\n",
       "      <td>0.119020</td>\n",
       "      <td>...</td>\n",
       "      <td>1.88</td>\n",
       "      <td>-0.75</td>\n",
       "      <td>20.7650</td>\n",
       "      <td>0.015</td>\n",
       "      <td>45.490</td>\n",
       "      <td>0.160</td>\n",
       "      <td>68.0450</td>\n",
       "      <td>0.2500</td>\n",
       "      <td>234.21</td>\n",
       "      <td>0.72</td>\n",
       "    </tr>\n",
       "    <tr>\n",
       "      <th>4</th>\n",
       "      <td>2013-01-18</td>\n",
       "      <td>Joe Rogan Experience #5 - Ari Shaffir &amp; John H...</td>\n",
       "      <td>2</td>\n",
       "      <td>33535</td>\n",
       "      <td>48</td>\n",
       "      <td>278</td>\n",
       "      <td>11</td>\n",
       "      <td>25.272727</td>\n",
       "      <td>37.703111</td>\n",
       "      <td>0.186889</td>\n",
       "      <td>...</td>\n",
       "      <td>1.88</td>\n",
       "      <td>-0.34</td>\n",
       "      <td>16.1500</td>\n",
       "      <td>0.070</td>\n",
       "      <td>28.630</td>\n",
       "      <td>0.160</td>\n",
       "      <td>57.5700</td>\n",
       "      <td>0.3200</td>\n",
       "      <td>132.69</td>\n",
       "      <td>0.68</td>\n",
       "    </tr>\n",
       "  </tbody>\n",
       "</table>\n",
       "<p>5 rows × 22 columns</p>\n",
       "</div>"
      ],
      "text/plain": [
       "         date                                              title  class  \\\n",
       "0  2013-01-17             Joe Rogan Experience #1 - Brian Redban      2   \n",
       "1  2013-01-17             Joe Rogan Experience #2 - Brian Redban      2   \n",
       "2  2013-01-17              Joe Rogan Experience #3 - Ari Shaffir      2   \n",
       "3  2013-01-17  Joe Rogan Experience #5 - Ari Shaffir & John H...      2   \n",
       "4  2013-01-18  Joe Rogan Experience #5 - Ari Shaffir & John H...      2   \n",
       "\n",
       "   viewCount  commentCount  likeCount  dislikeCount      ratio    magMean  \\\n",
       "0     673255          2091       6485           175  37.057143  36.839603   \n",
       "1     134693           359       1004            68  14.764706  40.991923   \n",
       "2     133176           320       1016            66  15.393939  37.661920   \n",
       "3      49565            59        343            19  18.052632  54.128431   \n",
       "4      33535            48        278            11  25.272727  37.703111   \n",
       "\n",
       "   sentMean  ...  magMin  sentMin    magLq  sentLq  magMedian  sentMedian  \\\n",
       "0  0.202423  ...    0.16    -0.80  15.4025   0.100     30.980       0.220   \n",
       "1  0.156189  ...    1.23    -0.64  15.4375   0.070     33.695       0.175   \n",
       "2  0.174560  ...    0.28    -0.67  16.5125   0.060     30.940       0.180   \n",
       "3  0.119020  ...    1.88    -0.75  20.7650   0.015     45.490       0.160   \n",
       "4  0.186889  ...    1.88    -0.34  16.1500   0.070     28.630       0.160   \n",
       "\n",
       "     magUq  sentUq  magMax  sentMax  \n",
       "0  52.1350  0.3300  173.46     0.75  \n",
       "1  56.9025  0.3075  187.24     0.72  \n",
       "2  55.6500  0.3000  123.39     0.75  \n",
       "3  68.0450  0.2500  234.21     0.72  \n",
       "4  57.5700  0.3200  132.69     0.68  \n",
       "\n",
       "[5 rows x 22 columns]"
      ]
     },
     "execution_count": 55,
     "metadata": {},
     "output_type": "execute_result"
    }
   ],
   "source": [
    "vids.head()\n"
   ]
  },
  {
   "cell_type": "code",
   "execution_count": 56,
   "metadata": {},
   "outputs": [
    {
     "data": {
      "text/plain": [
       "date                                                   2019-10-01\n",
       "title           Joe Rogan Experience - UFC Recap w/ Brendan Sc...\n",
       "class                                                           5\n",
       "viewCount                                                26071198\n",
       "commentCount                                               123027\n",
       "likeCount                                                  530844\n",
       "dislikeCount                                                86953\n",
       "ratio                                                         inf\n",
       "magMean                                                   77.5369\n",
       "sentMean                                                 0.362857\n",
       "magStd                                                    70.8311\n",
       "sentStd                                                   0.41872\n",
       "magMin                                                       37.1\n",
       "sentMin                                                      0.11\n",
       "magLq                                                       46.72\n",
       "sentLq                                                      0.235\n",
       "magMedian                                                   67.25\n",
       "sentMedian                                                  0.395\n",
       "magUq                                                      107.07\n",
       "sentUq                                                      0.475\n",
       "magMax                                                    1736.76\n",
       "sentMax                                                      0.88\n",
       "dtype: object"
      ]
     },
     "execution_count": 56,
     "metadata": {},
     "output_type": "execute_result"
    }
   ],
   "source": [
    "vids.max()"
   ]
  },
  {
   "cell_type": "code",
   "execution_count": 57,
   "metadata": {},
   "outputs": [
    {
     "name": "stdout",
     "output_type": "stream",
     "text": [
      "inf\n",
      "62\n",
      "0\n"
     ]
    }
   ],
   "source": [
    "print(vids.iloc[119].ratio)\n",
    "print(vids.iloc[119].likeCount)\n",
    "print(vids.iloc[119].dislikeCount)\n",
    "vids.at[119,'dislikeCount'] = 1\n",
    "vids.at[119,'ratio'] = 62"
   ]
  },
  {
   "cell_type": "code",
   "execution_count": 58,
   "metadata": {},
   "outputs": [
    {
     "data": {
      "text/plain": [
       "209.0"
      ]
     },
     "execution_count": 58,
     "metadata": {},
     "output_type": "execute_result"
    }
   ],
   "source": [
    "vids.ratio.max()"
   ]
  },
  {
   "cell_type": "markdown",
   "metadata": {},
   "source": [
    "We see there is an inf value in our ratio column. We find the culprit and deal with the issue. The issue is that the ratio is derived from dividing the likeCount by the dislikeCount. Any number divided by 0 results in an inf value. This inf value causes problems when analysing the data - many methods do not run if there is an inf value in the column. we deal with this by changing the dislikeCount to 1. No inf value any longer."
   ]
  },
  {
   "cell_type": "code",
   "execution_count": 59,
   "metadata": {},
   "outputs": [
    {
     "data": {
      "text/plain": [
       "date                                                   2013-01-23\n",
       "title           Joe Rogan Experience #140 - Brendon Walsh (Par...\n",
       "class                                                           2\n",
       "viewCount                                                    5667\n",
       "commentCount                                                    4\n",
       "likeCount                                                      62\n",
       "dislikeCount                                                    1\n",
       "ratio                                                          62\n",
       "magMean                                                   18.8533\n",
       "sentMean                                                 0.213333\n",
       "magStd                                                    8.77474\n",
       "sentStd                                                  0.405134\n",
       "magMin                                                       8.85\n",
       "sentMin                                                     -0.24\n",
       "magLq                                                      15.655\n",
       "sentLq                                                       0.05\n",
       "magMedian                                                   22.46\n",
       "sentMedian                                                   0.34\n",
       "magUq                                                      23.855\n",
       "sentUq                                                       0.44\n",
       "magMax                                                      25.25\n",
       "sentMax                                                      0.54\n",
       "Name: 119, dtype: object"
      ]
     },
     "execution_count": 59,
     "metadata": {},
     "output_type": "execute_result"
    }
   ],
   "source": [
    "vids.iloc[119]"
   ]
  },
  {
   "cell_type": "code",
   "execution_count": 65,
   "metadata": {},
   "outputs": [
    {
     "data": {
      "text/html": [
       "<div>\n",
       "<style scoped>\n",
       "    .dataframe tbody tr th:only-of-type {\n",
       "        vertical-align: middle;\n",
       "    }\n",
       "\n",
       "    .dataframe tbody tr th {\n",
       "        vertical-align: top;\n",
       "    }\n",
       "\n",
       "    .dataframe thead th {\n",
       "        text-align: right;\n",
       "    }\n",
       "</style>\n",
       "<table border=\"1\" class=\"dataframe\">\n",
       "  <thead>\n",
       "    <tr style=\"text-align: right;\">\n",
       "      <th></th>\n",
       "      <th>date</th>\n",
       "      <th>title</th>\n",
       "      <th>class</th>\n",
       "      <th>viewCount</th>\n",
       "      <th>commentCount</th>\n",
       "      <th>likeCount</th>\n",
       "      <th>dislikeCount</th>\n",
       "      <th>ratio</th>\n",
       "      <th>magMean</th>\n",
       "      <th>sentMean</th>\n",
       "      <th>...</th>\n",
       "      <th>sentMin</th>\n",
       "      <th>magLq</th>\n",
       "      <th>sentLq</th>\n",
       "      <th>magMedian</th>\n",
       "      <th>sentMedian</th>\n",
       "      <th>magUq</th>\n",
       "      <th>sentUq</th>\n",
       "      <th>magMax</th>\n",
       "      <th>sentMax</th>\n",
       "      <th>ratio_bins</th>\n",
       "    </tr>\n",
       "    <tr>\n",
       "      <th>date</th>\n",
       "      <th></th>\n",
       "      <th></th>\n",
       "      <th></th>\n",
       "      <th></th>\n",
       "      <th></th>\n",
       "      <th></th>\n",
       "      <th></th>\n",
       "      <th></th>\n",
       "      <th></th>\n",
       "      <th></th>\n",
       "      <th></th>\n",
       "      <th></th>\n",
       "      <th></th>\n",
       "      <th></th>\n",
       "      <th></th>\n",
       "      <th></th>\n",
       "      <th></th>\n",
       "      <th></th>\n",
       "      <th></th>\n",
       "      <th></th>\n",
       "      <th></th>\n",
       "    </tr>\n",
       "  </thead>\n",
       "  <tbody>\n",
       "  </tbody>\n",
       "</table>\n",
       "<p>0 rows × 23 columns</p>\n",
       "</div>"
      ],
      "text/plain": [
       "Empty DataFrame\n",
       "Columns: [date, title, class, viewCount, commentCount, likeCount, dislikeCount, ratio, magMean, sentMean, magStd, sentStd, magMin, sentMin, magLq, sentLq, magMedian, sentMedian, magUq, sentUq, magMax, sentMax, ratio_bins]\n",
       "Index: []\n",
       "\n",
       "[0 rows x 23 columns]"
      ]
     },
     "execution_count": 65,
     "metadata": {},
     "output_type": "execute_result"
    }
   ],
   "source": [
    "vids[vids.title.duplicated()==True]"
   ]
  },
  {
   "cell_type": "code",
   "execution_count": 61,
   "metadata": {},
   "outputs": [
    {
     "name": "stdout",
     "output_type": "stream",
     "text": [
      "Shape before removing duplicates:  (1394, 22)\n",
      "Shape after removing duplicates:  (1386, 22)\n"
     ]
    }
   ],
   "source": [
    "print(\"Shape before removing duplicates: \",vids.shape)\n",
    "vids = vids[vids.title.duplicated()==False]\n",
    "print(\"Shape after removing duplicates: \",vids.shape)"
   ]
  },
  {
   "cell_type": "markdown",
   "metadata": {},
   "source": [
    "Because of the way we got our video ID to query the youtube API with, we have some duplicate rows. We remove the duplicated rows from the dataframe."
   ]
  },
  {
   "cell_type": "code",
   "execution_count": 62,
   "metadata": {},
   "outputs": [
    {
     "name": "stdout",
     "output_type": "stream",
     "text": [
      "Shape after removing outliers (1077, 22)\n"
     ]
    }
   ],
   "source": [
    "for col in vids.columns[3:]:\n",
    "    if str(vids[col].dtype) != 'object':\n",
    "        vids = vids[(np.abs(stats.zscore(vids[col])) < 3)]\n",
    "vids = vids[vids['commentCount'] > 100]\n",
    "vids.index = pd.to_datetime(vids.date)\n",
    "print(\"Shape after removing outliers\",vids.shape)"
   ]
  },
  {
   "cell_type": "code",
   "execution_count": 63,
   "metadata": {},
   "outputs": [],
   "source": [
    "#6 equally distributed categories of likes/dislikes ratio\n",
    "bin_labels = [0,1,2,3,4,5]\n",
    "vids['ratio_bins'] = pd.qcut(vids['ratio'], q=6, labels = bin_labels)"
   ]
  },
  {
   "cell_type": "markdown",
   "metadata": {},
   "source": [
    "We removed rows where columns were outside of 3 standard deviations. This is to reduce any skewing that might occur from outliers. We also decided to select videos with over 100 comments, because we feel if the amount of comments is too small, then we wont get robust results from the sentiment analysis of the comments. We also created a categorical version of our ratio column, for classification modelling later."
   ]
  }
 ],
 "metadata": {
  "kernelspec": {
   "display_name": "Python 3",
   "language": "python",
   "name": "python3"
  },
  "language_info": {
   "codemirror_mode": {
    "name": "ipython",
    "version": 3
   },
   "file_extension": ".py",
   "mimetype": "text/x-python",
   "name": "python",
   "nbconvert_exporter": "python",
   "pygments_lexer": "ipython3",
   "version": "3.7.3"
  }
 },
 "nbformat": 4,
 "nbformat_minor": 2
}
