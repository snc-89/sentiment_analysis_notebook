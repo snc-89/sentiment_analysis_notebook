{
 "cells": [
  {
   "cell_type": "code",
   "execution_count": 35,
   "metadata": {},
   "outputs": [],
   "source": [
    "import json\n",
    "import pandas as pd\n",
    "import csv\n",
    "import seaborn as sns\n",
    "import matplotlib.pyplot as plt\n",
    "import wikipedia\n",
    "import numpy as np\n",
    "from scipy import stats\n",
    "from sklearn.model_selection import train_test_split\n",
    "from sklearn import linear_model\n",
    "from sklearn.metrics import r2_score\n",
    "from sklearn.metrics import confusion_matrix, accuracy_score, f1_score, precision_score, recall_score, make_scorer\n",
    "from sklearn.feature_selection import RFE, RFECV\n",
    "from sklearn.metrics import mean_squared_error, r2_score, mean_absolute_error\n",
    "import re\n",
    "from pandas.plotting import register_matplotlib_converters\n",
    "from sklearn.utils import resample\n",
    "from sklearn.naive_bayes import GaussianNB\n",
    "from sklearn.naive_bayes import MultinomialNB\n",
    "from sklearn.tree import DecisionTreeClassifier\n",
    "from sklearn.neural_network import MLPClassifier\n",
    "from sklearn.svm import SVC\n",
    "from sklearn.neighbors import KNeighborsClassifier\n",
    "from sklearn.cluster import KMeans\n",
    "from sklearn.feature_selection import RFE\n",
    "from sklearn.linear_model import LogisticRegression, LogisticRegressionCV\n",
    "from sklearn.model_selection import GridSearchCV"
   ]
  },
  {
   "cell_type": "code",
   "execution_count": 36,
   "metadata": {},
   "outputs": [
    {
     "name": "stdout",
     "output_type": "stream",
     "text": [
      "dataframe before filtering:  (1394, 23)\n",
      "dataframe shape after filtering outliers and low comment rows:  (1088, 23)\n",
      "dataframe shape after removing duplicates (1083, 23)\n"
     ]
    }
   ],
   "source": [
    "vids = pd.read_csv('files/df_sans_zero_sentiments.csv')\n",
    "#filter out outliers with not many comments (not enough comments for sentiment analysis to be robust)\n",
    "print(\"dataframe before filtering: \",vids.shape)\n",
    "for col in vids.columns[3:]:\n",
    "    if str(vids[col].dtype) != 'object':\n",
    "        vids = vids[(np.abs(stats.zscore(vids[col])) < 3)]\n",
    "vids = vids[vids['commentCount'] > 100]\n",
    "vids = vids.drop(['Unnamed: 0'],axis=1)\n",
    "vids.index = pd.to_datetime(vids.date)\n",
    "#6 equally distributed categories of likes/dislikes ratio\n",
    "bin_labels = [0,1,2,3,4,5]\n",
    "vids['ratio_bins'] = pd.qcut(vids['ratio'], q=6, labels = bin_labels)\n",
    "print(\"dataframe shape after filtering outliers and low comment rows: \",vids.shape)\n",
    "vids = vids[vids.title.duplicated()==False]\n",
    "print(\"dataframe shape after removing duplicates\",vids.shape)"
   ]
  },
  {
   "cell_type": "code",
   "execution_count": 37,
   "metadata": {},
   "outputs": [],
   "source": [
    "drop_parameters = ['date','title','ratio','ratio_bins','dislikeCount','likeCount','magMax','viewCount','commentCount']\n",
    "X = vids.drop(drop_parameters,axis=1)\n",
    "y = vids['ratio_bins']\n",
    "X_train, X_test, y_train, y_test = train_test_split(X, y, test_size=0.20,random_state=42)"
   ]
  },
  {
   "cell_type": "code",
   "execution_count": 38,
   "metadata": {},
   "outputs": [],
   "source": [
    "clf = GaussianNB()\n",
    "knc = KNeighborsClassifier()\n",
    "dt = DecisionTreeClassifier()\n",
    "nnw = MLPClassifier()\n",
    "svm = SVC(gamma='scale')"
   ]
  },
  {
   "cell_type": "code",
   "execution_count": 39,
   "metadata": {},
   "outputs": [
    {
     "name": "stdout",
     "output_type": "stream",
     "text": [
      "GaussianNB(priors=None, var_smoothing=1e-09)\n",
      "Accuracy on test:  0.34101382488479265\n",
      "\n",
      "\n",
      "Confusion matrix on test set: \n",
      "[[26  9  2  1  3  0]\n",
      " [ 9 12  1  5  2  5]\n",
      " [ 5  7  0  5  6  8]\n",
      " [ 6 10  1  7  2  9]\n",
      " [ 4  4  1  7  7 11]\n",
      " [ 4  4  2  5  5 22]]\n",
      "\n",
      "\n",
      "KNeighborsClassifier(algorithm='auto', leaf_size=30, metric='minkowski',\n",
      "                     metric_params=None, n_jobs=None, n_neighbors=5, p=2,\n",
      "                     weights='uniform')\n",
      "Accuracy on test:  0.19815668202764977\n",
      "\n",
      "\n",
      "Confusion matrix on test set: \n",
      "[[18  7  3  4  7  2]\n",
      " [ 9  8  9  3  2  3]\n",
      " [ 8  9  5  3  1  5]\n",
      " [ 6  7  5  6  7  4]\n",
      " [ 7  7  3  8  2  7]\n",
      " [ 9  5  8  6 10  4]]\n",
      "\n",
      "\n",
      "DecisionTreeClassifier(class_weight=None, criterion='gini', max_depth=None,\n",
      "                       max_features=None, max_leaf_nodes=None,\n",
      "                       min_impurity_decrease=0.0, min_impurity_split=None,\n",
      "                       min_samples_leaf=1, min_samples_split=2,\n",
      "                       min_weight_fraction_leaf=0.0, presort=False,\n",
      "                       random_state=None, splitter='best')\n",
      "Accuracy on test:  0.2488479262672811\n",
      "\n",
      "\n",
      "Confusion matrix on test set: \n",
      "[[19  6  3  3  5  5]\n",
      " [ 9  8  7  4  3  3]\n",
      " [ 2  8  7  4  5  5]\n",
      " [ 5  4 12  2  7  5]\n",
      " [ 3  3  9  7  6  6]\n",
      " [ 2  4  7 10  7 12]]\n",
      "\n",
      "\n",
      "MLPClassifier(activation='relu', alpha=0.0001, batch_size='auto', beta_1=0.9,\n",
      "              beta_2=0.999, early_stopping=False, epsilon=1e-08,\n",
      "              hidden_layer_sizes=(100,), learning_rate='constant',\n",
      "              learning_rate_init=0.001, max_iter=200, momentum=0.9,\n",
      "              n_iter_no_change=10, nesterovs_momentum=True, power_t=0.5,\n",
      "              random_state=None, shuffle=True, solver='adam', tol=0.0001,\n",
      "              validation_fraction=0.1, verbose=False, warm_start=False)\n",
      "Accuracy on test:  0.24423963133640553\n",
      "\n",
      "\n",
      "Confusion matrix on test set: \n",
      "[[23  0  2 11  5  0]\n",
      " [ 9  0 12  9  3  1]\n",
      " [ 7  0 15  6  2  1]\n",
      " [ 8  0 11  7  8  1]\n",
      " [10  0  8  7  7  2]\n",
      " [21  0  5 10  5  1]]\n",
      "\n",
      "\n",
      "SVC(C=1.0, cache_size=200, class_weight=None, coef0=0.0,\n",
      "    decision_function_shape='ovr', degree=3, gamma='scale', kernel='rbf',\n",
      "    max_iter=-1, probability=False, random_state=None, shrinking=True,\n",
      "    tol=0.001, verbose=False)\n",
      "Accuracy on test:  0.2304147465437788\n",
      "\n",
      "\n",
      "Confusion matrix on test set: \n",
      "[[25  0  6  0 10  0]\n",
      " [12  0  5  0 17  0]\n",
      " [ 5  0  6  1 18  1]\n",
      " [ 6  0  4  2 22  1]\n",
      " [10  0  5  2 16  1]\n",
      " [ 9  0  7  2 23  1]]\n",
      "\n",
      "\n"
     ]
    }
   ],
   "source": [
    "models = [clf, knc, dt, nnw, svm]\n",
    "accuracy = []\n",
    "for i in range(len(models)):\n",
    "    models[i].fit(X_train, y_train)\n",
    "    #y_train_pred = models[i].predict(X_train)\n",
    "    y_test_pred = models[i].predict(X_test)\n",
    "    #print(\"Accuracy on train: \", accuracy_score(y_train, y_train_pred))\n",
    "    print(models[i])\n",
    "    print(\"Accuracy on test: \", accuracy_score(y_test, y_test_pred))\n",
    "    accuracy.append(accuracy_score(y_test, y_test_pred))\n",
    "    #print(\"Confusion matrix on train set: \")\n",
    "    #print(confusion_matrix(y_train, y_train_pred))\n",
    "    print(\"\\n\")\n",
    "    print(\"Confusion matrix on test set: \")\n",
    "    print(confusion_matrix(y_test, y_test_pred))\n",
    "    print(\"\\n\")"
   ]
  },
  {
   "cell_type": "code",
   "execution_count": 40,
   "metadata": {},
   "outputs": [
    {
     "name": "stdout",
     "output_type": "stream",
     "text": [
      "KNeighborsClassifier(algorithm='auto', leaf_size=30, metric='minkowski',\n",
      "                     metric_params=None, n_jobs=None, n_neighbors=1, p=2,\n",
      "                     weights='uniform')\n",
      "Accuracy on test:  0.20276497695852536\n",
      "\n",
      "\n",
      "\n",
      "\n",
      "KNeighborsClassifier(algorithm='auto', leaf_size=30, metric='minkowski',\n",
      "                     metric_params=None, n_jobs=None, n_neighbors=3, p=2,\n",
      "                     weights='uniform')\n",
      "Accuracy on test:  0.2350230414746544\n",
      "\n",
      "\n",
      "\n",
      "\n",
      "KNeighborsClassifier(algorithm='auto', leaf_size=30, metric='minkowski',\n",
      "                     metric_params=None, n_jobs=None, n_neighbors=5, p=2,\n",
      "                     weights='uniform')\n",
      "Accuracy on test:  0.19815668202764977\n",
      "\n",
      "\n",
      "\n",
      "\n",
      "KNeighborsClassifier(algorithm='auto', leaf_size=30, metric='minkowski',\n",
      "                     metric_params=None, n_jobs=None, n_neighbors=7, p=2,\n",
      "                     weights='uniform')\n",
      "Accuracy on test:  0.1935483870967742\n",
      "\n",
      "\n",
      "\n",
      "\n",
      "KNeighborsClassifier(algorithm='auto', leaf_size=30, metric='minkowski',\n",
      "                     metric_params=None, n_jobs=None, n_neighbors=9, p=2,\n",
      "                     weights='uniform')\n",
      "Accuracy on test:  0.1935483870967742\n",
      "\n",
      "\n",
      "\n",
      "\n",
      "KNeighborsClassifier(algorithm='auto', leaf_size=30, metric='minkowski',\n",
      "                     metric_params=None, n_jobs=None, n_neighbors=11, p=2,\n",
      "                     weights='uniform')\n",
      "Accuracy on test:  0.20276497695852536\n",
      "\n",
      "\n",
      "\n",
      "\n",
      "KNeighborsClassifier(algorithm='auto', leaf_size=30, metric='minkowski',\n",
      "                     metric_params=None, n_jobs=None, n_neighbors=13, p=2,\n",
      "                     weights='uniform')\n",
      "Accuracy on test:  0.19815668202764977\n",
      "\n",
      "\n",
      "\n",
      "\n",
      "KNeighborsClassifier(algorithm='auto', leaf_size=30, metric='minkowski',\n",
      "                     metric_params=None, n_jobs=None, n_neighbors=15, p=2,\n",
      "                     weights='uniform')\n",
      "Accuracy on test:  0.21658986175115208\n",
      "\n",
      "\n",
      "\n",
      "\n",
      "KNeighborsClassifier(algorithm='auto', leaf_size=30, metric='minkowski',\n",
      "                     metric_params=None, n_jobs=None, n_neighbors=17, p=2,\n",
      "                     weights='uniform')\n",
      "Accuracy on test:  0.2488479262672811\n",
      "\n",
      "\n",
      "\n",
      "\n",
      "KNeighborsClassifier(algorithm='auto', leaf_size=30, metric='minkowski',\n",
      "                     metric_params=None, n_jobs=None, n_neighbors=19, p=2,\n",
      "                     weights='uniform')\n",
      "Accuracy on test:  0.2626728110599078\n",
      "\n",
      "\n",
      "\n",
      "\n",
      "KNeighborsClassifier(algorithm='auto', leaf_size=30, metric='minkowski',\n",
      "                     metric_params=None, n_jobs=None, n_neighbors=21, p=2,\n",
      "                     weights='uniform')\n",
      "Accuracy on test:  0.23963133640552994\n",
      "\n",
      "\n",
      "\n",
      "\n",
      "KNeighborsClassifier(algorithm='auto', leaf_size=30, metric='minkowski',\n",
      "                     metric_params=None, n_jobs=None, n_neighbors=23, p=2,\n",
      "                     weights='uniform')\n",
      "Accuracy on test:  0.23963133640552994\n",
      "\n",
      "\n",
      "\n",
      "\n",
      "KNeighborsClassifier(algorithm='auto', leaf_size=30, metric='minkowski',\n",
      "                     metric_params=None, n_jobs=None, n_neighbors=25, p=2,\n",
      "                     weights='uniform')\n",
      "Accuracy on test:  0.2534562211981567\n",
      "\n",
      "\n",
      "\n",
      "\n",
      "KNeighborsClassifier(algorithm='auto', leaf_size=30, metric='minkowski',\n",
      "                     metric_params=None, n_jobs=None, n_neighbors=27, p=2,\n",
      "                     weights='uniform')\n",
      "Accuracy on test:  0.2488479262672811\n",
      "\n",
      "\n",
      "\n",
      "\n",
      "KNeighborsClassifier(algorithm='auto', leaf_size=30, metric='minkowski',\n",
      "                     metric_params=None, n_jobs=None, n_neighbors=29, p=2,\n",
      "                     weights='uniform')\n",
      "Accuracy on test:  0.2626728110599078\n",
      "\n",
      "\n",
      "\n",
      "\n"
     ]
    }
   ],
   "source": [
    "models = [clf, knc, dt, nnw, svm]\n",
    "accuracy = []\n",
    "for i in range(1, 31, 2):\n",
    "    model = KNeighborsClassifier(n_neighbors = i)\n",
    "    model.fit(X_train, y_train)\n",
    "    #y_train_pred = models[i].predict(X_train)\n",
    "    y_test_pred = model.predict(X_test)\n",
    "    #print(\"Accuracy on train: \", accuracy_score(y_train, y_train_pred))\n",
    "    print(model)\n",
    "    print(\"Accuracy on test: \", accuracy_score(y_test, y_test_pred))\n",
    "    accuracy.append(accuracy_score(y_test, y_test_pred))\n",
    "    #print(\"Confusion matrix on train set: \")\n",
    "    #print(confusion_matrix(y_train, y_train_pred))\n",
    "    print(\"\\n\")\n",
    "    #print(\"Confusion matrix on test set: \")\n",
    "    #print(confusion_matrix(y_test, y_test_pred))\n",
    "    print(\"\\n\")"
   ]
  },
  {
   "cell_type": "code",
   "execution_count": 41,
   "metadata": {},
   "outputs": [
    {
     "name": "stdout",
     "output_type": "stream",
     "text": [
      "Fitting 10 folds for each of 34 candidates, totalling 340 fits\n"
     ]
    },
    {
     "name": "stderr",
     "output_type": "stream",
     "text": [
      "[Parallel(n_jobs=-1)]: Using backend LokyBackend with 4 concurrent workers.\n",
      "[Parallel(n_jobs=-1)]: Done  10 tasks      | elapsed:    2.4s\n",
      "[Parallel(n_jobs=-1)]: Done  64 tasks      | elapsed:  2.7min\n",
      "[Parallel(n_jobs=-1)]: Done 154 tasks      | elapsed:  2.8min\n",
      "[Parallel(n_jobs=-1)]: Done 280 tasks      | elapsed:  2.9min\n",
      "[Parallel(n_jobs=-1)]: Done 340 out of 340 | elapsed:  3.3min finished\n",
      "/Users/jack/anaconda3/lib/python3.7/site-packages/sklearn/model_selection/_search.py:813: DeprecationWarning: The default of the `iid` parameter will change from True to False in version 0.22 and will be removed in 0.24. This will change numeric results when test-set sizes are unequal.\n",
      "  DeprecationWarning)\n"
     ]
    },
    {
     "name": "stdout",
     "output_type": "stream",
     "text": [
      "best clf: SVC(C=10, cache_size=200, class_weight=None, coef0=0.0,\n",
      "    decision_function_shape='ovr', degree=3, gamma='auto_deprecated',\n",
      "    kernel='linear', max_iter=-1, probability=False, random_state=None,\n",
      "    shrinking=True, tol=0.001, verbose=False)\n",
      "Accuracy:  0.35023041474654376\n",
      "F1:  0.33769549471503985\n",
      "Precision:  0.33912702813912493\n",
      "Recall:  0.3412479127502037\n",
      "[[24  6  3  3  4  1]\n",
      " [ 8  9  3  4  7  3]\n",
      " [ 2  6 11  3  4  5]\n",
      " [ 3  5  7  4 11  5]\n",
      " [ 3  4  4  7 11  5]\n",
      " [ 4  1  4  5 11 17]]\n"
     ]
    }
   ],
   "source": [
    "rbf = {'kernel': ['rbf'], 'gamma': [0.1, 0.01, 0.001, 0.0001],'C': [0.001, 0.01, 0.1, 1, 10, 100, 100]}\n",
    "    \n",
    "linear = {'kernel': ['linear'], 'C': [0.001, 0.01, 0.1, 1, 10, 100]}\n",
    "    \n",
    "tuned_parameters = [linear, rbf]\n",
    "acc_scorer = make_scorer(accuracy_score)\n",
    "grid_obj  = GridSearchCV(SVC(), tuned_parameters, cv=10, scoring=acc_scorer, n_jobs=-1, verbose = 5)\n",
    "grid_obj  = grid_obj.fit(X_train, y_train)\n",
    "clf = grid_obj.best_estimator_\n",
    "print('best clf:', clf)\n",
    "  \n",
    "clf.fit(X_train, y_train)\n",
    "y_pred = clf.predict(X_test)\n",
    "print('Accuracy: ', accuracy_score(y_test, y_pred))\n",
    "print('F1: ', f1_score(y_test, y_pred, average='macro'))\n",
    "print('Precision: ', precision_score(y_test, y_pred, average='macro'))\n",
    "print('Recall: ', recall_score(y_test, y_pred, average='macro'))\n",
    "print(confusion_matrix(y_test, y_pred))"
   ]
  },
  {
   "cell_type": "code",
   "execution_count": null,
   "metadata": {},
   "outputs": [],
   "source": [
    "# parameters = {'kernel':('linear', 'rbf'), 'C':[1, 10]}\n",
    "# clf = GridSearchCV(DecisionTreeClassifier(), parameters, cv=5)\n",
    "# clf = GridSearchCV(svm, parameters, cv=5)\n",
    "# clf.fit(X_train, y_train)"
   ]
  },
  {
   "cell_type": "code",
   "execution_count": 32,
   "metadata": {},
   "outputs": [
    {
     "name": "stderr",
     "output_type": "stream",
     "text": [
      "[Parallel(n_jobs=-1)]: Using backend LokyBackend with 4 concurrent workers.\n",
      "[Parallel(n_jobs=-1)]: Done  10 out of  10 | elapsed:    4.5s finished\n",
      "/Users/jack/anaconda3/lib/python3.7/site-packages/sklearn/linear_model/logistic.py:947: ConvergenceWarning: lbfgs failed to converge. Increase the number of iterations.\n",
      "  \"of iterations.\", ConvergenceWarning)\n"
     ]
    }
   ],
   "source": [
    "clf = LogisticRegressionCV(cv=10, verbose=2, n_jobs=-1, random_state=0, multi_class='auto').fit(X_train, y_train)"
   ]
  },
  {
   "cell_type": "code",
   "execution_count": 42,
   "metadata": {},
   "outputs": [],
   "source": [
    "predict = clf.predict(X_test)"
   ]
  },
  {
   "cell_type": "code",
   "execution_count": 43,
   "metadata": {},
   "outputs": [
    {
     "data": {
      "text/plain": [
       "0.35023041474654376"
      ]
     },
     "execution_count": 43,
     "metadata": {},
     "output_type": "execute_result"
    }
   ],
   "source": [
    "accuracy_score(y_test, predict)"
   ]
  },
  {
   "cell_type": "code",
   "execution_count": null,
   "metadata": {},
   "outputs": [],
   "source": []
  }
 ],
 "metadata": {
  "kernelspec": {
   "display_name": "Python 3",
   "language": "python",
   "name": "python3"
  },
  "language_info": {
   "codemirror_mode": {
    "name": "ipython",
    "version": 3
   },
   "file_extension": ".py",
   "mimetype": "text/x-python",
   "name": "python",
   "nbconvert_exporter": "python",
   "pygments_lexer": "ipython3",
   "version": "3.7.3"
  }
 },
 "nbformat": 4,
 "nbformat_minor": 2
}
