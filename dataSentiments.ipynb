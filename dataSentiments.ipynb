{
 "cells": [
  {
   "cell_type": "code",
   "execution_count": 1,
   "metadata": {},
   "outputs": [],
   "source": [
    "import json\n",
    "import pandas as pd\n",
    "import csv\n",
    "import seaborn as sns\n",
    "import matplotlib.pyplot as plt\n",
    "import wikipedia\n",
    "import numpy as np\n",
    "from sklearn.model_selection import train_test_split\n",
    "from sklearn import linear_model\n",
    "from sklearn.metrics import r2_score\n",
    "from sklearn.metrics import confusion_matrix, accuracy_score, f1_score, precision_score, recall_score\n",
    "from sklearn.feature_selection import RFE, RFECV\n",
    "from sklearn.metrics import mean_squared_error, r2_score, mean_absolute_error\n",
    "import re\n",
    "from pandas.plotting import register_matplotlib_converters\n",
    "from sklearn.utils import resample\n",
    "from sklearn.naive_bayes import GaussianNB\n",
    "from sklearn.naive_bayes import MultinomialNB\n",
    "from sklearn.tree import DecisionTreeClassifier\n",
    "from sklearn.neural_network import MLPClassifier\n",
    "from sklearn.svm import SVC\n",
    "from sklearn.neighbors import KNeighborsClassifier\n",
    "from sklearn.cluster import KMeans"
   ]
  },
  {
   "cell_type": "code",
   "execution_count": 3,
   "metadata": {},
   "outputs": [],
   "source": [
    "foo = pd.read_csv('files/df_sans_zero_sentiments.csv')"
   ]
  },
  {
   "cell_type": "code",
   "execution_count": 4,
   "metadata": {},
   "outputs": [],
   "source": [
    "foo = foo.drop(['Unnamed: 0'],axis=1)"
   ]
  },
  {
   "cell_type": "code",
   "execution_count": 6,
   "metadata": {},
   "outputs": [],
   "source": [
    "bar = foo[(foo.commentCount > 1000) & (foo.viewCount < 8000000)]"
   ]
  },
  {
   "cell_type": "code",
   "execution_count": 8,
   "metadata": {},
   "outputs": [],
   "source": [
    "train, test = train_test_split(bar, test_size=0.2)"
   ]
  },
  {
   "cell_type": "code",
   "execution_count": 9,
   "metadata": {},
   "outputs": [
    {
     "data": {
      "text/plain": [
       "Index(['date', 'title', 'class', 'viewCount', 'commentCount', 'likeCount',\n",
       "       'dislikeCount', 'ratio', 'magMean', 'magStd', 'magMin', 'magLq',\n",
       "       'magMedian', 'magUq', 'magMax', 'sentMean', 'sentStd', 'sentMin',\n",
       "       'sentLq', 'sentMedian', 'sentUq', 'sentMax'],\n",
       "      dtype='object')"
      ]
     },
     "execution_count": 9,
     "metadata": {},
     "output_type": "execute_result"
    }
   ],
   "source": [
    "train.columns"
   ]
  },
  {
   "cell_type": "code",
   "execution_count": 10,
   "metadata": {},
   "outputs": [],
   "source": [
    "drop = ['date','title','ratio']"
   ]
  },
  {
   "cell_type": "code",
   "execution_count": 11,
   "metadata": {},
   "outputs": [
    {
     "name": "stdout",
     "output_type": "stream",
     "text": [
      "y = x * [-6.67154503e-01 -2.36031484e-06 -2.65022031e-04  3.39866833e-04\n",
      " -9.14622478e-05  7.31983873e-01 -4.05974998e-01  3.17273489e+00\n",
      " -1.93623710e-01 -3.38062174e-01 -1.23515689e-01 -2.97433022e-03\n",
      "  2.06363472e+02  2.67123335e+01 -4.27015602e+00 -1.00208110e+01\n",
      " -3.05336533e+01 -6.21612034e+01 -2.98773445e+00] + 2.6550727002752748\n"
     ]
    }
   ],
   "source": [
    "reg =  linear_model.LinearRegression()\n",
    "X_train = train.drop(drop,axis=1)\n",
    "X_test = test.drop(drop,axis=1)\n",
    "y_train = train.ratio\n",
    "y_test = test.ratio\n",
    "reg.fit(X_train,y_train)\n",
    "print(\"y = x *\", reg.coef_, \"+\", reg.intercept_)"
   ]
  },
  {
   "cell_type": "code",
   "execution_count": 12,
   "metadata": {},
   "outputs": [
    {
     "name": "stdout",
     "output_type": "stream",
     "text": [
      "MSE: 38.27312649729574\n",
      "RMSE: 6.186527822397289\n",
      "R^2: 0.4447269120491463\n",
      "MAE: 4.493316630098422\n"
     ]
    }
   ],
   "source": [
    "prediction = reg.predict(X_test)\n",
    "print(\"MSE:\", mean_squared_error(y_test, prediction))\n",
    "print(\"RMSE:\", np.sqrt(mean_squared_error(y_test, prediction)))\n",
    "print(\"R^2:\", r2_score(y_test, prediction))\n",
    "print(\"MAE:\", mean_absolute_error(y_test, prediction))"
   ]
  },
  {
   "cell_type": "code",
   "execution_count": 13,
   "metadata": {},
   "outputs": [],
   "source": [
    "knn = KNeighborsClassifier(n_neighbors=31)\n",
    "X_train = train.drop(['class','date','title'],axis=1)\n",
    "X_test = test.drop(['class','date','title'],axis=1)\n",
    "y_train = train['class']\n",
    "y_test = test['class']\n",
    "knn.fit(X_train,y_train)\n",
    "y_pred = knn.predict(X_test)"
   ]
  },
  {
   "cell_type": "code",
   "execution_count": 14,
   "metadata": {},
   "outputs": [
    {
     "data": {
      "text/plain": [
       "0.31875"
      ]
     },
     "execution_count": 14,
     "metadata": {},
     "output_type": "execute_result"
    }
   ],
   "source": [
    "accuracy_score(y_test, y_pred)"
   ]
  },
  {
   "cell_type": "code",
   "execution_count": 15,
   "metadata": {},
   "outputs": [
    {
     "data": {
      "text/plain": [
       "array([[ 0,  2,  5,  0,  0,  0],\n",
       "       [ 0, 12, 31,  0,  0,  0],\n",
       "       [ 0, 13, 39,  2,  0,  0],\n",
       "       [ 0,  8, 19,  0,  0,  0],\n",
       "       [ 0,  5, 12,  0,  0,  0],\n",
       "       [ 0,  2, 10,  0,  0,  0]], dtype=int64)"
      ]
     },
     "execution_count": 15,
     "metadata": {},
     "output_type": "execute_result"
    }
   ],
   "source": [
    "confusion_matrix(y_test, y_pred)"
   ]
  },
  {
   "cell_type": "code",
   "execution_count": 499,
   "metadata": {},
   "outputs": [],
   "source": [
    "zero = bar[bar['class'] == 0]\n",
    "one = bar[bar['class'] == 1]\n",
    "two = bar[bar['class'] == 2]\n",
    "three = bar[bar['class'] == 3]\n",
    "four = bar[bar['class'] == 4]\n",
    "five = bar[bar['class'] == 5]"
   ]
  },
  {
   "cell_type": "code",
   "execution_count": 562,
   "metadata": {},
   "outputs": [
    {
     "data": {
      "text/plain": [
       "5    70\n",
       "4    70\n",
       "3    70\n",
       "2    70\n",
       "1    70\n",
       "0    61\n",
       "Name: class, dtype: int64"
      ]
     },
     "execution_count": 562,
     "metadata": {},
     "output_type": "execute_result"
    }
   ],
   "source": [
    "arr = [zero,one,two,three,four,five]\n",
    "\n",
    "for i in range(1,5):\n",
    "    arr[i] = resample(arr[i], replace=False, n_samples=len(five))\n",
    "    \n",
    "foobar = pd.concat([arr[0],arr[1],arr[2],arr[3],arr[4],arr[5]])\n",
    "\n",
    "foobar['class'].value_counts()"
   ]
  },
  {
   "cell_type": "code",
   "execution_count": 625,
   "metadata": {},
   "outputs": [],
   "source": [
    "X = foobar.drop(['class','date','title'],axis=1)\n",
    "y = foobar['class']\n",
    "X_train, X_test, y_train, y_test = train_test_split(X, y, test_size=0.20,random_state=42)\n"
   ]
  },
  {
   "cell_type": "code",
   "execution_count": 619,
   "metadata": {},
   "outputs": [],
   "source": [
    "from sklearn.naive_bayes import GaussianNB\n",
    "from sklearn.naive_bayes import MultinomialNB\n",
    "from sklearn.tree import DecisionTreeClassifier\n",
    "from sklearn.neural_network import MLPClassifier\n",
    "from sklearn.svm import SVC"
   ]
  },
  {
   "cell_type": "code",
   "execution_count": 623,
   "metadata": {},
   "outputs": [],
   "source": [
    "models = [DecisionTreeClassifier(),KNeighborsClassifier(n_neighbors=11),GaussianNB(),MLPClassifier(),SVC()]"
   ]
  },
  {
   "cell_type": "code",
   "execution_count": 624,
   "metadata": {},
   "outputs": [
    {
     "name": "stdout",
     "output_type": "stream",
     "text": [
      "0.3132530120481928\n",
      "0.304313369630974\n",
      "0.30527563252021456\n",
      "0.3295669729880256\n",
      "[[2 2 3 3 4 4]\n",
      " [2 8 4 3 2 0]\n",
      " [1 5 4 2 2 1]\n",
      " [2 0 0 3 1 1]\n",
      " [0 3 1 1 5 2]\n",
      " [0 1 3 1 3 4]]\n",
      "0.21686746987951808\n",
      "0.21558523869696178\n",
      "0.25393270944741536\n",
      "0.21211361737677525\n",
      "[[3 7 2 4 2 0]\n",
      " [0 5 4 3 2 5]\n",
      " [0 6 3 3 3 0]\n",
      " [2 0 2 1 1 1]\n",
      " [0 3 3 2 3 1]\n",
      " [1 1 2 4 1 3]]\n",
      "0.21686746987951808\n",
      "0.18834044377522638\n",
      "0.29763803448013976\n",
      "0.256390977443609\n",
      "[[ 0  1  1  3 12  1]\n",
      " [ 1  1  2  1 13  1]\n",
      " [ 0  0  3  2 10  0]\n",
      " [ 0  0  1  2  4  0]\n",
      " [ 0  0  0  2 10  0]\n",
      " [ 1  0  0  1  8  2]]\n",
      "0.14457831325301204\n",
      "0.042105263157894736\n",
      "0.024096385542168672\n",
      "0.16666666666666666\n",
      "[[ 0  0  0  0  0 18]\n",
      " [ 0  0  0  0  0 19]\n",
      " [ 0  0  0  0  0 15]\n",
      " [ 0  0  0  0  0  7]\n",
      " [ 0  0  0  0  0 12]\n",
      " [ 0  0  0  0  0 12]]\n",
      "0.0963855421686747\n",
      "0.04288389513108615\n",
      "0.18089430894308944\n",
      "0.17543859649122806\n",
      "[[ 0  0  0 18  0  0]\n",
      " [ 0  1  0 18  0  0]\n",
      " [ 0  0  0 15  0  0]\n",
      " [ 0  0  0  7  0  0]\n",
      " [ 0  0  0 12  0  0]\n",
      " [ 0  0  0 12  0  0]]\n"
     ]
    },
    {
     "name": "stderr",
     "output_type": "stream",
     "text": [
      "C:\\Users\\me\\Anaconda3\\lib\\site-packages\\sklearn\\neural_network\\multilayer_perceptron.py:566: ConvergenceWarning: Stochastic Optimizer: Maximum iterations (200) reached and the optimization hasn't converged yet.\n",
      "  % self.max_iter, ConvergenceWarning)\n",
      "C:\\Users\\me\\Anaconda3\\lib\\site-packages\\sklearn\\metrics\\classification.py:1437: UndefinedMetricWarning: F-score is ill-defined and being set to 0.0 in labels with no predicted samples.\n",
      "  'precision', 'predicted', average, warn_for)\n",
      "C:\\Users\\me\\Anaconda3\\lib\\site-packages\\sklearn\\metrics\\classification.py:1437: UndefinedMetricWarning: Precision is ill-defined and being set to 0.0 in labels with no predicted samples.\n",
      "  'precision', 'predicted', average, warn_for)\n",
      "C:\\Users\\me\\Anaconda3\\lib\\site-packages\\sklearn\\svm\\base.py:193: FutureWarning: The default value of gamma will change from 'auto' to 'scale' in version 0.22 to account better for unscaled features. Set gamma explicitly to 'auto' or 'scale' to avoid this warning.\n",
      "  \"avoid this warning.\", FutureWarning)\n",
      "C:\\Users\\me\\Anaconda3\\lib\\site-packages\\sklearn\\metrics\\classification.py:1437: UndefinedMetricWarning: F-score is ill-defined and being set to 0.0 in labels with no predicted samples.\n",
      "  'precision', 'predicted', average, warn_for)\n",
      "C:\\Users\\me\\Anaconda3\\lib\\site-packages\\sklearn\\metrics\\classification.py:1437: UndefinedMetricWarning: Precision is ill-defined and being set to 0.0 in labels with no predicted samples.\n",
      "  'precision', 'predicted', average, warn_for)\n"
     ]
    }
   ],
   "source": [
    "for model in models:\n",
    "    model.fit(X_train,y_train)\n",
    "    y_pred = model.predict(X_test)\n",
    "\n",
    "    print(accuracy_score(y_test,y_pred))\n",
    "    print(f1_score(y_test,y_pred,average='macro'))\n",
    "    print(precision_score(y_test,y_pred,average='macro'))\n",
    "    print(recall_score(y_test,y_pred,average='macro'))\n",
    "    print(confusion_matrix(y_test,y_pred))"
   ]
  },
  {
   "cell_type": "code",
   "execution_count": 517,
   "metadata": {},
   "outputs": [],
   "source": [
    "ok = pd.concat([one,two])"
   ]
  },
  {
   "cell_type": "code",
   "execution_count": 644,
   "metadata": {},
   "outputs": [],
   "source": [
    "df = foobar.drop(['title','date','class'],axis=1)\n"
   ]
  },
  {
   "cell_type": "code",
   "execution_count": 610,
   "metadata": {},
   "outputs": [],
   "source": [
    "df = foobar[['sentMean','ratio']]"
   ]
  },
  {
   "cell_type": "code",
   "execution_count": 647,
   "metadata": {},
   "outputs": [
    {
     "data": {
      "image/png": "[encoded data removed]",
      "text/plain": [
       "<Figure size 762.375x720 with 1 Axes>"
      ]
     },
     "metadata": {
      "needs_background": "light"
     },
     "output_type": "display_data"
    }
   ],
   "source": [
    "kmeans = KMeans(n_clusters=4)\n",
    "kmeans.fit(df)\n",
    "df['label'] = kmeans.predict(df)\n",
    "_p = sns.lmplot(\"sentMean\", \"ratio\", data=df, fit_reg=False, hue='label', height=10)"
   ]
  },
  {
   "cell_type": "code",
   "execution_count": null,
   "metadata": {},
   "outputs": [],
   "source": []
  }
 ],
 "metadata": {
  "kernelspec": {
   "display_name": "Python 3",
   "language": "python",
   "name": "python3"
  },
  "language_info": {
   "codemirror_mode": {
    "name": "ipython",
    "version": 3
   },
   "file_extension": ".py",
   "mimetype": "text/x-python",
   "name": "python",
   "nbconvert_exporter": "python",
   "pygments_lexer": "ipython3",
   "version": "3.7.3"
  }
 },
 "nbformat": 4,
 "nbformat_minor": 2
}
