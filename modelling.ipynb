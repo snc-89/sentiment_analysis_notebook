{
 "cells": [
  {
   "cell_type": "code",
   "execution_count": null,
   "metadata": {},
   "outputs": [],
   "source": [
    "\n",
    "drop_parameters = ['date','title','ratio','ratio_bins']\n",
    "X = vids.drop(drop_parameters,axis=1)\n",
    "y = vids['ratio']\n",
    "X_train, X_test, y_train, y_test = train_test_split(X, y, test_size=0.20,random_state=42)\n",
    "model = linear_model.LinearRegression()\n",
    "model.fit(X_train, y_train)\n",
    "prediction = model.predict(X_test)\n",
    "print(\"MSE:\", mean_squared_error(y_test, prediction))\n",
    "print(\"RMSE:\", np.sqrt(mean_squared_error(y_test, prediction)))\n",
    "print(\"R^2:\", r2_score(y_test, prediction))\n",
    "print(\"MAE:\", mean_absolute_error(y_test, prediction))\n",
    "\n",
    "\n",
    "rmseList = []\n",
    "for i in range(1, 20):\n",
    "    estimator = linear_model.LinearRegression()\n",
    "    selector = RFE(estimator, i)\n",
    "    selector.fit(X_train,y_train)\n",
    "    predicted = selector.predict(X_test)\n",
    "    rmseList.append(np.sqrt(mean_squared_error(y_test, predicted)))\n",
    "rmseDF=pd.DataFrame(rmseList, columns=['rmse']) \n",
    "plt.figure(figsize = (20,10))\n",
    "sns.lineplot(data=rmseDF)\n",
    "plt.title('number of features x axis, RMSE value y axis',size='40')\n",
    "plt.xlabel('No. of features',size='20')\n",
    "plt.ylabel('RMSE',size='20')\n",
    "\n",
    "drop_parameters = ['date','title','ratio','ratio_bins']\n",
    "X = vids.drop(drop_parameters,axis=1)\n",
    "y = vids['ratio_bins']\n",
    "X_train, X_test, y_train, y_test = train_test_split(X, y, test_size=0.20,random_state=42)\n",
    "\n",
    "\n",
    "logreg = LogisticRegression(C=1e9)\n",
    "logreg.fit(X_train, y_train)\n",
    "predicted = logreg.predict(X_test)\n",
    "accuracy_score(y_test,predicted)\n",
    "confusion_matrix(y_test,predicted)"
   ]
  }
 ],
 "metadata": {
  "kernelspec": {
   "display_name": "Python 3",
   "language": "python",
   "name": "python3"
  },
  "language_info": {
   "codemirror_mode": {
    "name": "ipython",
    "version": 3
   },
   "file_extension": ".py",
   "mimetype": "text/x-python",
   "name": "python",
   "nbconvert_exporter": "python",
   "pygments_lexer": "ipython3",
   "version": "3.7.3"
  }
 },
 "nbformat": 4,
 "nbformat_minor": 2
}
