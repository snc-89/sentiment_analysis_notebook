{
 "cells": [
  {
   "cell_type": "code",
   "execution_count": 3,
   "metadata": {},
   "outputs": [],
   "source": [
    "#!/usr/bin/env python3\n",
    "# -*- coding: utf-8 -*-\n",
    "\n",
    "import sentiment as se\n",
    "import nlp as n\n",
    "from multiprocessing import Pool as ThreadPool\n",
    "\n",
    "num_threads = 4\n",
    "\n",
    "comments =  \"The story about the bike just floored me. Love that and Mark's affection for that transvestite guy--THAT would make such a powerful scene in a movie.\", \"That dude is quick and naturally funny.  No set up, no rehearsed stories, just funny.\", \"At one point Mark causally calls Joe “Fatty”, and then at another point just casually calls him “Sloppy Joe” 😂😂😂 so funny\", \"wow! him and his wife are just amazing! wouldnt you like to watch them f*** LMAOOOO\", \"Mark is so quick! I laughed so hard at “oh i thought one died” (talking about his kids)\"\n",
    "\n",
    "# change to en_core_web_lg later on\n",
    "n.nlp = n.load_spacy_db(\"en_core_web_sm\")\n",
    "se.read_sentiwords_file()\n",
    "\n",
    "\n",
    "def start_threads(urld, num_threads):\n",
    "    pool = ThreadPool(num_threads)\n",
    "    pool.map(se.parse_comment, urld)\n",
    "    pool.close()\n",
    "\n",
    "\n",
    "start_threads(comments, num_threads)\n"
   ]
  },
  {
   "cell_type": "code",
   "execution_count": null,
   "metadata": {},
   "outputs": [],
   "source": []
  }
 ],
 "metadata": {
  "kernelspec": {
   "display_name": "Python 3",
   "language": "python",
   "name": "python3"
  },
  "language_info": {
   "codemirror_mode": {
    "name": "ipython",
    "version": 3
   },
   "file_extension": ".py",
   "mimetype": "text/x-python",
   "name": "python",
   "nbconvert_exporter": "python",
   "pygments_lexer": "ipython3",
   "version": "3.7.3"
  }
 },
 "nbformat": 4,
 "nbformat_minor": 2
}
